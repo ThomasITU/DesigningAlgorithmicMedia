{
 "cells": [
  {
   "cell_type": "markdown",
   "metadata": {},
   "source": [
    "### Import"
   ]
  },
  {
   "cell_type": "code",
   "execution_count": null,
   "metadata": {},
   "outputs": [],
   "source": [
    "# Import\n",
    "import pandas as pd\n",
    "import matplotlib.pyplot as plt\n",
    "import numpy as np\n",
    "from importlib import reload\n",
    "import analysis\n",
    "# Import custom libraries\n",
    "from util import UtilityFunctions as uf\n",
    "from analysis import Analysis as an\n",
    "reload(analysis)  \n",
    "\n",
    "pd.DataFrame.filter_features = uf.filter_features\n",
    "pd.DataFrame.filter_numerical_values = uf.filter_numerical_values\n",
    "pd.DataFrame.filter_negative_values = uf.filter_negative_values\n",
    "pd.DataFrame.filter_columns_with_less_unique_values_than_threshold = uf.filter_columns_with_less_unique_values_than_threshold\n",
    "pd.DataFrame.drop_columns = uf.drop_columns"
   ]
  },
  {
   "cell_type": "markdown",
   "metadata": {},
   "source": [
    "### Load processed data"
   ]
  },
  {
   "cell_type": "code",
   "execution_count": null,
   "metadata": {},
   "outputs": [],
   "source": [
    "path = './../data/processed/'\n",
    "\n",
    "processed_files = uf.get_csv_files_from_folder(path)\n",
    "for f in processed_files:\n",
    "        print(f)"
   ]
  },
  {
   "cell_type": "markdown",
   "metadata": {},
   "source": [
    "### Set hyperparameters for PCA"
   ]
  },
  {
   "cell_type": "code",
   "execution_count": null,
   "metadata": {},
   "outputs": [],
   "source": [
    "NUMBER_OF_FEATURES = 200\n",
    "N_COMPONENTS = 3\n",
    "feature_of_interest = 'E033' # Political self assessment scale V94, V114"
   ]
  },
  {
   "cell_type": "markdown",
   "metadata": {},
   "source": [
    "### Set hyperparameters for KMeans"
   ]
  },
  {
   "cell_type": "code",
   "execution_count": null,
   "metadata": {},
   "outputs": [],
   "source": [
    "from sklearn.cluster import KMeans as km\n",
    "N_Clusters = 2"
   ]
  },
  {
   "cell_type": "markdown",
   "metadata": {},
   "source": [
    "### Run PCA on processed data and plot"
   ]
  },
  {
   "cell_type": "code",
   "execution_count": null,
   "metadata": {},
   "outputs": [],
   "source": [
    "plot_pca = False\n",
    "plot_kmeans = True\n",
    "\n",
    "for csv_file in processed_files:\n",
    "        country_dataframe = pd.read_csv(csv_file)\n",
    "        # Find the NUMBER_OF_FEATURES most correlated with the political scale feature\n",
    "        corr = country_dataframe\n",
    "\n",
    "        if '2018' in csv_file:\n",
    "            corr = country_dataframe.drop(feature_of_interest, axis=1).corrwith(country_dataframe[feature_of_interest]).abs().sort_values(ascending=False)\n",
    "            n_features = corr.head(NUMBER_OF_FEATURES).index\n",
    "            filter_df = country_dataframe.filter_features(n_features)\n",
    "            corr = filter_df\n",
    "            plotting_data = (country_dataframe[feature_of_interest], 'Political self assessment scale', feature_of_interest)\n",
    "\n",
    "\n",
    "        # Perform PCA\n",
    "        (explained_variance, pca) = an.PCA(corr, N_COMPONENTS)\n",
    "\n",
    "        # visualize PCA\n",
    "        dataset_name = csv_file.split('/')[-1].split('.')[0]\n",
    "        print(f\"Explained variance for {dataset_name} with {n_features.shape[0]} features\")\n",
    "        print([f\"{r * 100:.2f}\" for r in explained_variance[0:N_COMPONENTS]])\n",
    "        \n",
    "        if plot_pca:\n",
    "            if '2018' in csv_file:\n",
    "                an.plot_PCA(pca, dataset_name, plotting_data)\n",
    "            else:\n",
    "                an.plot_PCA(pca, dataset_name, None)\n",
    "\n",
    "        # Perform KMeans\n",
    "\n",
    "        kmeans = km(n_clusters=N_Clusters)\n",
    "        labels = kmeans.fit_predict(pca)\n",
    "        centroids = kmeans.cluster_centers_\n",
    "        print(f\"KMeans for {dataset_name}\")\n",
    "        if plot_kmeans:        \n",
    "            an.plot_kmeans(N_Clusters,pca,labels,dataset_name)\n",
    "        # Plot KMeans\n",
    "        # an.plot_KMeans(country_dataframe, dataset_name)\n",
    "\n"
   ]
  },
  {
   "cell_type": "markdown",
   "metadata": {},
   "source": []
  }
 ],
 "metadata": {
  "kernelspec": {
   "display_name": ".venv",
   "language": "python",
   "name": "python3"
  },
  "language_info": {
   "codemirror_mode": {
    "name": "ipython",
    "version": 3
   },
   "file_extension": ".py",
   "mimetype": "text/x-python",
   "name": "python",
   "nbconvert_exporter": "python",
   "pygments_lexer": "ipython3",
   "version": "3.13.0"
  }
 },
 "nbformat": 4,
 "nbformat_minor": 2
}
