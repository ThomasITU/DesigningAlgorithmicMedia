{
 "cells": [
  {
   "cell_type": "markdown",
   "id": "0",
   "metadata": {},
   "source": [
    "### Imports"
   ]
  },
  {
   "cell_type": "code",
   "execution_count": null,
   "id": "1",
   "metadata": {},
   "outputs": [],
   "source": [
    "# Import necessary libraries\n",
    "import pandas as pd\n",
    "from sklearn.preprocessing import StandardScaler\n",
    "from sklearn.decomposition import PCA\n",
    "import matplotlib.pyplot as plt\n",
    "import seaborn as sns\n",
    "\n",
    "# Import custom libraries\n",
    "import util\n",
    "from util import UtilityFunctions as uf\n",
    "\n",
    "# reload the custom library, \n",
    "# Need to be executed every time new functions are added to util.py \n",
    "from importlib import reload\n",
    "reload(util)   "
   ]
  },
  {
   "cell_type": "markdown",
   "id": "2",
   "metadata": {},
   "source": [
    "#### Import dataset"
   ]
  },
  {
   "cell_type": "code",
   "execution_count": null,
   "id": "3",
   "metadata": {},
   "outputs": [],
   "source": [
    "# Load the CSV file\n",
    "df = pd.read_csv('./../data/raw/wave 7 EVS_WVS_Joint_Csv_v5_0.csv', sep=',')\n"
   ]
  },
  {
   "cell_type": "markdown",
   "id": "4",
   "metadata": {},
   "source": [
    "### Data explorations"
   ]
  },
  {
   "cell_type": "markdown",
   "id": "5",
   "metadata": {},
   "source": [
    "#### data cleaning \n",
    "Drop columns that aren't relevant and modify others into numerical value "
   ]
  },
  {
   "cell_type": "code",
   "execution_count": null,
   "id": "6",
   "metadata": {},
   "outputs": [],
   "source": [
    "usa_df = df[df['cntry'] == 840]\n",
    "\n",
    "# drop following columns, doi, cntry_AN, lnge_iso, version, doi_gesis, doi_wvsa, reg_nuts1, reg_nuts2\n",
    "columns_to_drop = ['doi_gesis','doi_wvsa', 'cntry_AN', 'lnge_iso', 'version', 'reg_nuts1', 'reg_nuts2', 'X002_02B','V002A_01','V001A_01']\n",
    "uf.drop_columns(usa_df, columns_to_drop)\n",
    "\n",
    "# set study title to 1 if it starts with EVS5, else 0 for WVS7\n",
    "usa_df.loc[:, 'studytit'] = usa_df['studytit'].apply(lambda x: 1 if str(x).startswith('EVS5') else 0)\n",
    "usa_df['studytit'] = usa_df['studytit'].astype(int)\n",
    "\n",
    "# set versn_s to 2022 if it starts with 5, else 2024, deduced from the data\n",
    "usa_df.loc[:, 'versn_s'] = usa_df['versn_s'].apply(lambda x: 2022 if str(x).startswith('5') else 2024)\n",
    "usa_df['versn_s'] = usa_df['versn_s'].astype(int)\n",
    "\n",
    "uf.print_non_numeric_columns(usa_df)\n",
    "\n"
   ]
  },
  {
   "cell_type": "markdown",
   "id": "7",
   "metadata": {},
   "source": [
    "#### Adjust negative rows and drop columns with less than 2 unique row values\n",
    "\n",
    "since anything negative is either don't know or refused to answer, NA or missing and columns with no unique values does not capture any variance"
   ]
  },
  {
   "cell_type": "code",
   "execution_count": null,
   "id": "8",
   "metadata": {},
   "outputs": [],
   "source": [
    "# Count rows with any negative value while handling strings\n",
    "count_negative_rows = (usa_df.apply(pd.to_numeric, errors='coerce') < 0).any(axis=1).sum()\n",
    "print(f\"Rows with negative values: {count_negative_rows}\")\n",
    "usa_df = usa_df.apply(pd.to_numeric, errors='coerce')\n",
    "\n",
    "# We gather that every row has at least one negative value, so we will replace them with 0 for now\n",
    "usa_df = usa_df.map(lambda x: 0 if x < 0 else x)\n",
    "\n",
    "# Drop columns with fewer than `threshold` unique values\n",
    "threshold = 1\n",
    "columns_to_drop = list(uf.few_unique_values_columns(usa_df, threshold).keys())\n",
    "usa_df = uf.drop_columns(usa_df, columns_to_drop)"
   ]
  },
  {
   "cell_type": "markdown",
   "id": "9",
   "metadata": {},
   "source": [
    "### Data exploration "
   ]
  },
  {
   "cell_type": "markdown",
   "id": "10",
   "metadata": {},
   "source": [
    "#### Select only numeric columns as PCA only works on numeric features and standardize data"
   ]
  },
  {
   "cell_type": "code",
   "execution_count": null,
   "id": "11",
   "metadata": {},
   "outputs": [],
   "source": [
    "political_scale_feature = 'E033'\n",
    "df_numeric = usa_df.select_dtypes(include=[float, int])\n",
    "# df_numeric = df_numeric.drop(columns=[political_scale_feature])  # Drop the column used for coloring\n",
    "\n",
    "# Scale the data\n",
    "scaler = StandardScaler() \n",
    "df_scaled = scaler.fit_transform(df_numeric)"
   ]
  },
  {
   "cell_type": "markdown",
   "id": "12",
   "metadata": {},
   "source": [
    "#### Apply PCA"
   ]
  },
  {
   "cell_type": "code",
   "execution_count": null,
   "id": "13",
   "metadata": {},
   "outputs": [],
   "source": [
    "pca = PCA(n_components=3)\n",
    "principal_components = pca.fit_transform(df_scaled)\n",
    "\n",
    "# Create a DataFrame with the principal components\n",
    "pca_df = pd.DataFrame(data=principal_components, columns=['PC1', 'PC2','PC3'])\n",
    "pca_df[political_scale_feature] = df[political_scale_feature]  # Add the coloring feature\n",
    "\n",
    "# Show explained variance ratio\n",
    "print(pca.explained_variance_ratio_)"
   ]
  },
  {
   "cell_type": "markdown",
   "id": "14",
   "metadata": {},
   "source": [
    "##### Plot PCA results, coloring <span style=\"color: #1E90FF;\">Left leaning</span> blue and <span style=\"color: #B22222;\"> Right leaning</span> red, based on feature E033 (Self positioning in political scale)\n"
   ]
  },
  {
   "cell_type": "code",
   "execution_count": null,
   "id": "15",
   "metadata": {},
   "outputs": [],
   "source": [
    "# Normalize the E033 values for color mapping\n",
    "norm = plt.Normalize(pca_df[political_scale_feature].min(), pca_df[political_scale_feature].max())\n",
    "cmap = plt.get_cmap('coolwarm')  # Get the colormap from blue to red\n",
    "\n",
    "# Map E033 values to colors\n",
    "colors = cmap(norm(pca_df[political_scale_feature]))\n",
    "\n",
    "# Create a scatter plot\n",
    "plt.figure(figsize=(10, 6))\n",
    "scatter = plt.scatter(x=pca_df['PC1'], y=pca_df['PC2'], c=colors, alpha=0.7)\n",
    "\n",
    "\n",
    "# Customize plot\n",
    "plt.title('PCA Plot Colored by Self positioning in political scale (E033)')\n",
    "plt.xlabel('Principal Component 1')\n",
    "plt.ylabel('Principal Component 2')\n",
    "plt.grid()\n",
    "plt.show()"
   ]
  },
  {
   "cell_type": "code",
   "execution_count": null,
   "id": "16",
   "metadata": {},
   "outputs": [],
   "source": [
    "sns.set(font_scale=1)\n",
    "\n",
    "corr = usa_df.corr(method='pearson', numeric_only=True)\n",
    "fig, ax = plt.subplots(figsize=(50,50))\n",
    "sns.heatmap(corr, xticklabels=corr.columns, yticklabels=corr.columns, cmap='RdBu_r', annot=True, linewidth=0.5, ax=ax, annot_kws={\"size\":20},)"
   ]
  },
  {
   "cell_type": "code",
   "execution_count": null,
   "id": "17",
   "metadata": {},
   "outputs": [],
   "source": [
    "# sns.set(font_scale=.5)\n",
    "# usa_df.corrwith(usa_df['E033']).abs().sort_values().plot(kind='barh',figsize=(10,10))\n",
    "\n",
    "# Create a list of the top 40 features that are most correlated with E033\n",
    "NUMBER_OF_FEATURES = 40\n",
    "corr = usa_df.drop(political_scale_feature, axis=1).corrwith(usa_df[political_scale_feature]).abs().sort_values(ascending=False)\n",
    "n_features = corr.head(NUMBER_OF_FEATURES)\n",
    "\n",
    "filter_df = uf.filter_features(usa_df, n_features.index)\n",
    "corr = filter_df.corr(method='pearson', numeric_only=True)\n",
    "\n",
    "sns.set(font_scale=1.5)\n",
    "fig, ax = plt.subplots(figsize=(50,50))\n",
    "sns.heatmap(corr, xticklabels=corr.columns, yticklabels=corr.columns, cmap='RdBu_r', annot=True, linewidth=0.5, ax=ax, annot_kws={\"size\":18},)\n"
   ]
  },
  {
   "cell_type": "markdown",
   "id": "18",
   "metadata": {},
   "source": [
    "1. PCA\n",
    "    PCA 2, see if clusters appear \n",
    "    Color the pca scatterplot in colors tied to left or right leaning.\n",
    "\n",
    "2. Inspect covariance matrix\n",
    "    feature selection"
   ]
  }
 ],
 "metadata": {
  "kernelspec": {
   "display_name": ".venv",
   "language": "python",
   "name": "python3"
  },
  "language_info": {
   "codemirror_mode": {
    "name": "ipython",
    "version": 3
   },
   "file_extension": ".py",
   "mimetype": "text/x-python",
   "name": "python",
   "nbconvert_exporter": "python",
   "pygments_lexer": "ipython3",
   "version": "3.13.0"
  }
 },
 "nbformat": 4,
 "nbformat_minor": 5
}
