{
 "cells": [
  {
   "cell_type": "markdown",
   "metadata": {},
   "source": [
    "## Preprocessing\n",
    "\n",
    "### Import"
   ]
  },
  {
   "cell_type": "code",
   "execution_count": null,
   "metadata": {},
   "outputs": [],
   "source": [
    "# Import \n",
    "import pandas as pd\n",
    "\n",
    "# Import custom libraries\n",
    "import util\n",
    "from util import UtilityFunctions as uf\n",
    "from analysis import Analysis as an\n",
    "\n",
    "# reload the custom library, \n",
    "# Need to be executed every time new functions are added to util.py \n",
    "from importlib import reload\n",
    "reload(util)   \n",
    "\n",
    "# Monkey patch the method from the utility class to the pandas DataFrame\n",
    "pd.DataFrame.filter_features = uf.filter_features\n",
    "pd.DataFrame.filter_numerical_values = uf.filter_numerical_values\n",
    "pd.DataFrame.filter_negative_values = uf.filter_negative_values\n",
    "pd.DataFrame.filter_columns_with_less_unique_values_than_threshold = uf.filter_columns_with_less_unique_values_than_threshold\n",
    "pd.DataFrame.drop_columns = uf.drop_columns"
   ]
  },
  {
   "cell_type": "markdown",
   "metadata": {},
   "source": [
    "### Select country codes to process"
   ]
  },
  {
   "cell_type": "code",
   "execution_count": null,
   "metadata": {},
   "outputs": [],
   "source": [
    "# select the country codes\n",
    "countries = [(208, 'Denmark'), (578, 'Norway'), (276, 'Germany'), (840, 'USA')]"
   ]
  },
  {
   "cell_type": "markdown",
   "metadata": {},
   "source": [
    "### Select raw data files"
   ]
  },
  {
   "cell_type": "code",
   "execution_count": null,
   "metadata": {},
   "outputs": [],
   "source": [
    "raw_files =  uf.get_csv_files_from_folder()\n",
    "print(raw_files)"
   ]
  },
  {
   "cell_type": "markdown",
   "metadata": {},
   "source": [
    "### Define features to remove based on handbook"
   ]
  },
  {
   "cell_type": "code",
   "execution_count": null,
   "metadata": {},
   "outputs": [],
   "source": [
    "columns_to_drop = [\n",
    "    'uniqid', 'ivlength', 'ivstart', 'ivstend', 'ivdate', 'reg_iso', \n",
    "    'size_5c', 'gwght', 'respint','X002_02A', 'doi_gesis','doi_wvsa', \n",
    "    'cntry_AN', 'lnge_iso', 'version', 'reg_nuts1', 'reg_nuts2',\n",
    "    'X002_02B','V002A', 'V002A_01','V001A', 'V001A_01', 'X003R',  \n",
    "    'X003R2', 'mode', 'intrvwr_id', \n",
    "]"
   ]
  },
  {
   "cell_type": "markdown",
   "metadata": {},
   "source": [
    "### Process and save files"
   ]
  },
  {
   "cell_type": "code",
   "execution_count": null,
   "metadata": {},
   "outputs": [],
   "source": [
    "delimiters = [';', ',', '\\t']\n",
    "country_features = ['cntry', 'V2']\n",
    "year_variables = ['year', 'V237', 'V262','V238', 'V246','V260']\n",
    "\n",
    "def read_data(csv_file, delimiters = delimiters):\n",
    "    for sep in delimiters:\n",
    "        try:\n",
    "            dataframe = pd.read_csv(csv_file, sep=sep, on_bad_lines='skip', low_memory=False)\n",
    "            print(f\"Data read successfully with delimiter '{sep}'.\")\n",
    "            return dataframe\n",
    "        except pd.errors.ParserError as e:\n",
    "            print(f\"Parser error with delimiter '{sep}': {e}\")\n",
    "    return None\n",
    "\n",
    "def find_country_feature_name(dataframe, countries = countries):\n",
    "    feature_name = None\n",
    "    for country_code_feature_name in country_features:  \n",
    "        for country_code in countries:\n",
    "            try:\n",
    "                country_dataframe = dataframe[dataframe[country_code_feature_name] == country_code[0]]  \n",
    "                feature_name = country_code_feature_name\n",
    "                break\n",
    "            \n",
    "            except KeyError as e:\n",
    "                print(f\"Key error: {e}\")\n",
    "                continue\n",
    "    print(\"Country code feature name not found.\")\n",
    "    return feature_name"
   ]
  },
  {
   "cell_type": "markdown",
   "metadata": {},
   "source": [
    "#### Helper methods to extract meta variables"
   ]
  },
  {
   "cell_type": "code",
   "execution_count": null,
   "metadata": {},
   "outputs": [],
   "source": [
    "# process the raw files reducing size and initial cleaning removing data not to be used\n",
    "# such as missing values, negative values, columns with less unique values than a threshold\n",
    "# and columns with only one value\n",
    "# none numerical values are also removed\n",
    "   \n",
    "for csv_file in raw_files: # List of delimiters to try\n",
    "    dataframe = read_data(csv_file)\n",
    "    year = csv_file.split(' ')[1].strip(\".csv\")\n",
    "    country_code_feature_name = find_country_feature_name(dataframe)\n",
    "\n",
    "    for country_code, name in countries:\n",
    "        print(csv_file)\n",
    "        country_dataframe = dataframe[dataframe[country_code_feature_name] == country_code]   \n",
    "        if country_dataframe.empty:\n",
    "            continue \n",
    "        country_dataframe = country_dataframe.filter_numerical_values()\n",
    "        country_dataframe = country_dataframe.filter_negative_values()\n",
    "        country_dataframe = country_dataframe.filter_columns_with_less_unique_values_than_threshold(2)\n",
    "        country_dataframe = uf.drop_columns(country_dataframe, columns_to_drop)\n",
    "        file_name = str(year) + \"_\" + name # + \"_\" + str(version)\n",
    "        uf.save_dataframe(country_dataframe, file_name)        "
   ]
  },
  {
   "cell_type": "markdown",
   "metadata": {},
   "source": [
    "### Filter out features"
   ]
  },
  {
   "cell_type": "code",
   "execution_count": null,
   "metadata": {},
   "outputs": [],
   "source": [
    "# Remove or only select features that are relevant for the analysis\n"
   ]
  }
 ],
 "metadata": {
  "kernelspec": {
   "display_name": ".venv",
   "language": "python",
   "name": "python3"
  },
  "language_info": {
   "codemirror_mode": {
    "name": "ipython",
    "version": 3
   },
   "file_extension": ".py",
   "mimetype": "text/x-python",
   "name": "python",
   "nbconvert_exporter": "python",
   "pygments_lexer": "ipython3",
   "version": "3.13.0"
  }
 },
 "nbformat": 4,
 "nbformat_minor": 2
}

{
 "cells": [
  {
   "cell_type": "markdown",
   "metadata": {},
   "source": [
    "## Preprocessing\n",
    "\n",
    "### Import"
   ]
  },
  {
   "cell_type": "code",
   "execution_count": null,
   "metadata": {},
   "outputs": [],
   "source": [
    "# Import \n",
    "import pandas as pd\n",
    "\n",
    "# Import custom libraries\n",
    "import util\n",
    "from util import UtilityFunctions as uf\n",
    "from analysis import Analysis as an\n",
    "\n",
    "# reload the custom library, \n",
    "# Need to be executed every time new functions are added to util.py \n",
    "from importlib import reload\n",
    "reload(util)   \n",
    "\n",
    "# Monkey patch the method from the utility class to the pandas DataFrame\n",
    "pd.DataFrame.filter_features = uf.filter_features\n",
    "pd.DataFrame.filter_numerical_values = uf.filter_numerical_values\n",
    "pd.DataFrame.filter_negative_values = uf.filter_negative_values\n",
    "pd.DataFrame.filter_columns_with_less_unique_values_than_threshold = uf.filter_columns_with_less_unique_values_than_threshold\n",
    "pd.DataFrame.drop_columns = uf.drop_columns"
   ]
  },
  {
   "cell_type": "markdown",
   "metadata": {},
   "source": [
    "### Select country codes to process"
   ]
  },
  {
   "cell_type": "code",
   "execution_count": null,
   "metadata": {},
   "outputs": [],
   "source": [
    "# select the country codes\n",
    "countries = [(208, 'Denmark'), (578, 'Norway'), (276, 'Germany'), (840, 'USA')]"
   ]
  },
  {
   "cell_type": "markdown",
   "metadata": {},
   "source": [
    "### Select raw data files"
   ]
  },
  {
   "cell_type": "code",
   "execution_count": null,
   "metadata": {},
   "outputs": [],
   "source": [
    "raw_files =  uf.get_csv_files_from_folder()\n",
    "print(raw_files)"
   ]
  },
  {
   "cell_type": "markdown",
   "metadata": {},
   "source": [
    "### Define features to remove based on handbook"
   ]
  },
  {
   "cell_type": "code",
   "execution_count": null,
   "metadata": {},
   "outputs": [],
   "source": [
    "\n",
    "columns_to_drop = [\n",
    "    'study', 'wave', 'version', 'versn_s', 'doi_gesis', 'doi_wvsa', 'studytit', 'uniqid', 'intrvwr_id', \n",
    "    'cntry', 'cntry_AN', 'cntrycow', 'year', 'fw_start', 'fw_end', 'cntry_y', 'mode', \n",
    "    'mm_mixed_mode_EVS5', 'mm_mode_fu_EVS5', 'mm_matrix_group_EVS5', 'mm_fw_start_fu_EVS5', \n",
    "    'mm_fw_end_fu_EVS5', 'mm_year_fu_EVS5', 'ivlength', 'ivstart', 'ivstend', 'ivdate', \n",
    "    'mm_v277_fu_EVS5', 'mm_v278a_fu_r_EVS5', 'mm_v279a_fu_r_EVS5', 'lnge_num', 'lnge_iso', \n",
    "    'gwght', 'pwght', 'wght_eq1000', 'reg_nuts1', 'reg_nuts2', 'reg_iso', 'size_5c', 'respint'\n",
    "]\n"
   ]
  },
  {
   "cell_type": "markdown",
   "metadata": {},
   "source": [
    "### Process and save files\n",
    "\n",
    "Process the raw files reducing size and initial cleaning removing data not to be used\n",
    "such as missing values, negative values, columns with less unique values than a threshold\n",
    "and columns with only one value\n",
    "none numerical values are also removed"
   ]
  },
  {
   "cell_type": "code",
   "execution_count": null,
   "metadata": {},
   "outputs": [],
   "source": [
    "\n",
    "for csv_file in raw_files:\n",
    "    dataframe = pd.read_csv(csv_file)\n",
    "    year = str(dataframe['year'].head(1).iloc[0])\n",
    "    version = str(dataframe['versn_s'].head(1)).split('(')[1].split(')')[0]\n",
    "    print(year + \" \" + version)\n",
    "    for country_code, name in countries:\n",
    "        country_dataframe = dataframe[dataframe['cntry'] == country_code]    \n",
    "        country_dataframe = country_dataframe.filter_numerical_values()\n",
    "        country_dataframe = country_dataframe.filter_negative_values()\n",
    "        country_dataframe = country_dataframe.filter_columns_with_less_unique_values_than_threshold(2)\n",
    "        country_dataframe = uf.drop_columns(country_dataframe, columns_to_drop)\n",
    "        file_name = str(year) + \"_\" + name + \"_\" + str(version)\n",
    "        uf.save_dataframe(country_dataframe, file_name)        "
   ]
  },
  {
   "cell_type": "markdown",
   "metadata": {},
   "source": [
    "### Filter out features"
   ]
  },
  {
   "cell_type": "code",
   "execution_count": null,
   "metadata": {},
   "outputs": [],
   "source": [
    "# Remove or only select features that are relevant for the analysis\n"
   ]
  }
 ],
 "metadata": {
  "kernelspec": {
   "display_name": ".venv",
   "language": "python",
   "name": "python3"
  },
  "language_info": {
   "codemirror_mode": {
    "name": "ipython",
    "version": 3
   },
   "file_extension": ".py",
   "mimetype": "text/x-python",
   "name": "python",
   "nbconvert_exporter": "python",
   "pygments_lexer": "ipython3",
   "version": "3.13.0"
  }
 },
 "nbformat": 4,
 "nbformat_minor": 2
}
