{
 "cells": [
  {
   "cell_type": "markdown",
   "metadata": {},
   "source": [
    "## Preprocessing\n",
    "\n",
    "### Import"
   ]
  },
  {
   "cell_type": "code",
   "execution_count": null,
   "metadata": {},
   "outputs": [],
   "source": [
    "# Import \n",
    "import pandas as pd\n",
    "\n",
    "# Import custom libraries\n",
    "import util\n",
    "from util import UtilityFunctions as uf\n",
    "from analysis import Analysis as an\n",
    "\n",
    "# reload the custom library, \n",
    "# Need to be executed every time new functions are added to util.py \n",
    "from importlib import reload\n",
    "reload(util)   \n",
    "\n",
    "# Monkey patch the method from the utility class to the pandas DataFrame\n",
    "pd.DataFrame.filter_features = uf.filter_features\n",
    "pd.DataFrame.filter_numerical_values = uf.filter_numerical_values\n",
    "pd.DataFrame.filter_negative_values = uf.filter_negative_values\n",
    "pd.DataFrame.filter_columns_with_less_unique_values_than_threshold = uf.filter_columns_with_less_unique_values_than_threshold\n",
    "pd.DataFrame.drop_columns = uf.drop_columns"
   ]
  },
  {
   "cell_type": "markdown",
   "metadata": {},
   "source": [
    "### Select country codes to process"
   ]
  },
  {
   "cell_type": "code",
   "execution_count": null,
   "metadata": {},
   "outputs": [],
   "source": [
    "# select the country codes\n",
    "countries = [(208, 'Denmark'), (578, 'Norway'), (276, 'Germany'), (840, 'USA')]"
   ]
  },
  {
   "cell_type": "markdown",
   "metadata": {},
   "source": [
    "### Select raw data files"
   ]
  },
  {
   "cell_type": "code",
   "execution_count": null,
   "metadata": {},
   "outputs": [],
   "source": [
    "raw_files =  uf.get_csv_files_from_folder()\n",
    "print(raw_files)"
   ]
  },
  {
   "cell_type": "markdown",
   "metadata": {},
   "source": [
    "### Define features to remove based on handbook"
   ]
  },
  {
   "cell_type": "code",
   "execution_count": null,
   "metadata": {},
   "outputs": [],
   "source": [
    "\n",
    "columns_to_drop = [\n",
    "    'study', 'wave', 'version', 'versn_s', 'doi_gesis', 'doi_wvsa', 'studytit', 'uniqid', 'intrvwr_id', \n",
    "    'cntry', 'cntry_AN', 'cntrycow', 'year', 'fw_start', 'fw_end', 'cntry_y', 'mode', \n",
    "    'mm_mixed_mode_EVS5', 'mm_mode_fu_EVS5', 'mm_matrix_group_EVS5', 'mm_fw_start_fu_EVS5', \n",
    "    'mm_fw_end_fu_EVS5', 'mm_year_fu_EVS5', 'ivlength', 'ivstart', 'ivstend', 'ivdate', \n",
    "    'mm_v277_fu_EVS5', 'mm_v278a_fu_r_EVS5', 'mm_v279a_fu_r_EVS5', 'lnge_num', 'lnge_iso', \n",
    "    'gwght', 'pwght', 'wght_eq1000', 'reg_nuts1', 'reg_nuts2', 'reg_iso', 'size_5c', 'respint'\n",
    "]\n"
   ]
  },
  {
   "cell_type": "markdown",
   "metadata": {},
   "source": [
    "### Process and save files\n",
    "\n",
    "Process the raw files reducing size and initial cleaning removing data not to be used\n",
    "such as missing values, negative values, columns with less unique values than a threshold\n",
    "and columns with only one value\n",
    "none numerical values are also removed"
   ]
  },
  {
   "cell_type": "code",
   "execution_count": null,
   "metadata": {},
   "outputs": [],
   "source": [
    "\n",
    "for csv_file in raw_files:\n",
    "    dataframe = pd.read_csv(csv_file)\n",
    "    year = str(dataframe['year'].head(1).iloc[0])\n",
    "    version = str(dataframe['versn_s'].head(1)).split('(')[1].split(')')[0]\n",
    "    print(year + \" \" + version)\n",
    "    for country_code, name in countries:\n",
    "        country_dataframe = dataframe[dataframe['cntry'] == country_code]    \n",
    "        country_dataframe = country_dataframe.filter_numerical_values()\n",
    "        country_dataframe = country_dataframe.filter_negative_values()\n",
    "        country_dataframe = country_dataframe.filter_columns_with_less_unique_values_than_threshold(2)\n",
    "        country_dataframe = uf.drop_columns(country_dataframe, columns_to_drop)\n",
    "        file_name = str(year) + \"_\" + name + \"_\" + str(version)\n",
    "        uf.save_dataframe(country_dataframe, file_name)        "
   ]
  },
  {
   "cell_type": "markdown",
   "metadata": {},
   "source": [
    "### Filter out features"
   ]
  },
  {
   "cell_type": "code",
   "execution_count": null,
   "metadata": {},
   "outputs": [],
   "source": [
    "# Remove or only select features that are relevant for the analysis\n"
   ]
  }
 ],
 "metadata": {
  "kernelspec": {
   "display_name": ".venv",
   "language": "python",
   "name": "python3"
  },
  "language_info": {
   "codemirror_mode": {
    "name": "ipython",
    "version": 3
   },
   "file_extension": ".py",
   "mimetype": "text/x-python",
   "name": "python",
   "nbconvert_exporter": "python",
   "pygments_lexer": "ipython3",
   "version": "3.13.0"
  }
 },
 "nbformat": 4,
 "nbformat_minor": 2
}
