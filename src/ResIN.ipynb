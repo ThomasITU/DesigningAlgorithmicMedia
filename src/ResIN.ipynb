{
 "cells": [
  {
   "cell_type": "markdown",
   "metadata": {},
   "source": [
    "# Response Item Network Analysis\n",
    "\n",
    "## Import"
   ]
  },
  {
   "cell_type": "code",
   "execution_count": null,
   "metadata": {},
   "outputs": [],
   "source": [
    "# Import \n",
    "import pandas as pd\n",
    "\n",
    "# Import custom libraries\n",
    "import util\n",
    "import responseItemNetwork\n",
    "from util import UtilityFunctions as uf\n",
    "from responseItemNetwork import ResponseItemNetwork as ResIN\n",
    "\n",
    "# reload due to changes \n",
    "from importlib import reload\n",
    "reload(util)   \n",
    "reload(responseItemNetwork)  \n",
    "\n",
    "# Monkey patch the method from the utility class to the pandas DataFrame\n",
    "pd.DataFrame.filter_features = uf.filter_features\n",
    "pd.DataFrame.filter_numerical_values = uf.filter_numerical_values\n",
    "pd.DataFrame.filter_negative_values = uf.filter_negative_values\n",
    "pd.DataFrame.filter_columns_with_less_unique_values_than_threshold = uf.filter_columns_with_less_unique_values_than_threshold\n",
    "pd.DataFrame.drop_columns = uf.drop_columns"
   ]
  },
  {
   "cell_type": "markdown",
   "metadata": {},
   "source": [
    "### Create test graph and visualise"
   ]
  },
  {
   "cell_type": "code",
   "execution_count": null,
   "metadata": {},
   "outputs": [],
   "source": [
    "import random\n",
    "\n",
    "# Generate a pandas DataFrame with the constraints\n",
    "num_rows = 150\n",
    "data = []\n",
    "\n",
    "for _ in range(num_rows):\n",
    "    # Generate random answers for a and b\n",
    "    a = random.choice([1, 2, 3])\n",
    "    b = random.choice([1, 2, 3])\n",
    "    \n",
    "    # If either a or b is max (3), ensure c and d are not max\n",
    "    if a == 3 or b == 3:\n",
    "        c = random.choice([1, 2])\n",
    "        d = random.choice([1, 2])\n",
    "    else:\n",
    "        # Otherwise, c and d can have any value, including max\n",
    "        c = random.choice([1, 2, 3])\n",
    "        d = random.choice([1, 2, 3])\n",
    "    \n",
    "    data.append({'a': a, 'b': b, 'c': c, 'd': d})\n",
    "\n",
    "df = pd.DataFrame(data)\n",
    "print(df)\n",
    "\n",
    "# create mapping\n",
    "mapping = {\n",
    "    'a': ['a', 3],\n",
    "    'b': ['c', 3],\n",
    "    'c': ['a', 3],\n",
    "    'd': ['c', 3]\n",
    "}\n",
    "\n",
    "resin = ResIN(df,mapping)\n",
    "ResIN.visualize_graph(resin, None, None, False)\n",
    "print(resin)\n"
   ]
  },
  {
   "cell_type": "markdown",
   "metadata": {},
   "source": [
    "## Load Data "
   ]
  },
  {
   "cell_type": "code",
   "execution_count": null,
   "metadata": {},
   "outputs": [],
   "source": [
    "path = './../data/processed/'\n",
    "file_to_load = \"2018\"\n",
    "df = pd.DataFrame()\n",
    "processed_files = uf.get_csv_files_from_folder(path)\n",
    "for f in processed_files:\n",
    "        if f.__contains__(file_to_load):\n",
    "            print(f)\n",
    "            df_new_set = pd.read_csv(f)\n",
    "            df = pd.concat([df, df_new_set], ignore_index=True)"
   ]
  },
  {
   "cell_type": "markdown",
   "metadata": {},
   "source": [
    "## Select Features"
   ]
  },
  {
   "cell_type": "code",
   "execution_count": null,
   "metadata": {},
   "outputs": [],
   "source": [
    "question_mapping = {\n",
    "    #'E035': ('Income Equality', 10),\n",
    "    # 'E036': ('State Ownership', 10),\n",
    "    # 'E037': ('Gov Responsibility', 10),\n",
    "    # 'E039': ('Competition', 10),\n",
    "    'D060': ('University Gender', 4),\n",
    "    #'D078': ('Women Executives', 5),\n",
    "    #'D059': ('Women Leaders', 5),\n",
    "    \n",
    "\n",
    "\n",
    "    'E069_11': ('Gov Trust', 4),\n",
    "    'E069_12': ('Party Trust', 4),\n",
    "    'E069_07': ('Parliament Trust', 4),\n",
    "\n",
    "\n",
    "    'F120': ('Abortion', 10),\n",
    "    'F118': ('Homosexuality', 10),\n",
    "    'F119': ('Prostitution', 10),\n",
    "    'F144_02': ('Death Penalty', 10),\n",
    "\n",
    "\n",
    "    'G052': ('Immigration Impact', 5),\n",
    "    'B008': ('Environment vs Growth', 3),\n",
    "    'F034': ('Religious Person', 2),\n",
    "    'D026_03': ('Child Duty', 5),\n",
    "    'E018': ('Authority Respect', 3)\n",
    "}\n",
    "\n",
    "NUMBER_OF_QUESTIONS = 5\n",
    "questions = list(question_mapping.keys())[:NUMBER_OF_QUESTIONS]\n",
    "df_filtered = df.filter_features(questions)\n",
    "\n",
    "# Create a new dictionary with only the first 5 keys\n",
    "question_mapping_filtered = {key: question_mapping[key] for key in questions}\n",
    "\n",
    "print(df_filtered.columns)"
   ]
  },
  {
   "cell_type": "markdown",
   "metadata": {},
   "source": [
    "## Process Features Into Binary variables "
   ]
  },
  {
   "cell_type": "code",
   "execution_count": null,
   "metadata": {},
   "outputs": [],
   "source": [
    "\n",
    "resin = ResIN(df_filtered, question_mapping_filtered)\n",
    "ResIN.visualize_graph(resin, question_mapping_filtered, None, False)\n",
    "print(resin.df.shape)\n",
    "print(resin.df.columns)"
   ]
  }
 ],
 "metadata": {
  "kernelspec": {
   "display_name": ".venv",
   "language": "python",
   "name": "python3"
  },
  "language_info": {
   "codemirror_mode": {
    "name": "ipython",
    "version": 3
   },
   "file_extension": ".py",
   "mimetype": "text/x-python",
   "name": "python",
   "nbconvert_exporter": "python",
   "pygments_lexer": "ipython3",
   "version": "3.13.0"
  }
 },
 "nbformat": 4,
 "nbformat_minor": 2
}
