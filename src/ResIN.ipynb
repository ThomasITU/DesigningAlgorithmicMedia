{
 "cells": [
  {
   "cell_type": "markdown",
   "metadata": {},
   "source": [
    "# Response Item Network Analysis\n",
    "\n",
    "## Import"
   ]
  },
  {
   "cell_type": "code",
   "execution_count": null,
   "metadata": {},
   "outputs": [],
   "source": [
    "# Import \n",
    "import pandas as pd\n",
    "\n",
    "# Import custom libraries\n",
    "import util\n",
    "import responseItemNetwork\n",
    "from util import UtilityFunctions as uf\n",
    "from responseItemNetwork import ResponseItemNetwork as ResIN\n",
    "\n",
    "# reload due to changes \n",
    "from importlib import reload\n",
    "reload(util)   \n",
    "reload(responseItemNetwork)  \n",
    "\n",
    "# Monkey patch the method from the utility class to the pandas DataFrame\n",
    "pd.DataFrame.filter_features = uf.filter_features\n",
    "pd.DataFrame.filter_numerical_values = uf.filter_numerical_values\n",
    "pd.DataFrame.filter_negative_values = uf.filter_negative_values\n",
    "pd.DataFrame.filter_columns_with_less_unique_values_than_threshold = uf.filter_columns_with_less_unique_values_than_threshold\n",
    "pd.DataFrame.drop_columns = uf.drop_columns"
   ]
  },
  {
   "cell_type": "markdown",
   "metadata": {},
   "source": [
    "## Load Data "
   ]
  },
  {
   "cell_type": "code",
   "execution_count": null,
   "metadata": {},
   "outputs": [],
   "source": [
    "path = './../data/processed/'\n",
    "file_to_load = \"2018_U\"\n",
    "processed_files = uf.get_csv_files_from_folder(path)\n",
    "for f in processed_files:\n",
    "        if f.__contains__(file_to_load):\n",
    "            print(f)\n",
    "            df = pd.read_csv(f)"
   ]
  },
  {
   "cell_type": "markdown",
   "metadata": {},
   "source": [
    "## Select Features"
   ]
  },
  {
   "cell_type": "code",
   "execution_count": null,
   "metadata": {},
   "outputs": [],
   "source": [
    "question_mapping = {\n",
    "    # Economic Views\n",
    "    'E035': 'Income Equality',     # Income equality vs individual incentives (1-10)\n",
    "    'E036': 'State Ownership',     # Private vs state ownership (1-10)\n",
    "    'E037': 'Gov Responsibility',  # Government vs individual responsibility (1-10)\n",
    "    'E039': 'Competition',         # Competition good vs harmful (1-10)\n",
    "    \n",
    "    # Political Trust/System\n",
    "    'E033': 'Political Scale',     # Self positioning \n",
    "    'E069_11': 'Gov Trust',        # Confidence in government\n",
    "    'E069_12': 'Party Trust',      # Confidence in political parties\n",
    "    'E069_07': 'Parliament Trust', # Confidence in parliament\n",
    "    'E114': 'Strong Leader',       # Having a strong leader\n",
    "    'E116': 'Military Rule',       # Having army rule\n",
    "    \n",
    "    # Social Issues\n",
    "    'F120': 'Abortion',           # Justifiable: Abortion\n",
    "    'F118': 'Homosexuality',      # Justifiable: Homosexuality\n",
    "    'F119': 'Prostitution',       # Justifiable: Prostitution\n",
    "    'F144_02': 'Death Penalty',   # Justifiable: Death penalty\n",
    "    \n",
    "    # Immigration/Nationalism\n",
    "    'G052': 'Immigration Impact',  # Impact of immigrants on country\n",
    "    #'C002_01': 'Jobs Priority',    # Priority to nationals over immigrants\n",
    "    \n",
    "    # Gender/Social Equality\n",
    "    'D059': 'Women Leaders',      # Men better political leaders\n",
    "    'D078': 'Women Executives',   # Men better business executives\n",
    "    'D060': 'University Gender',  # University more important for boys\n",
    "    \n",
    "    # Government Power\n",
    "    'H009': 'Surveillance',       # Government surveillance rights\n",
    "    'H010': 'Internet Monitor',   # Monitor emails and internet\n",
    "    'H011': 'Data Collection',    # Collect information without knowledge\n",
    "    \n",
    "    # Economic Policy\n",
    "    'E224': 'Wealth Transfer',    # Tax rich and subsidize poor\n",
    "    'B008': 'Environment vs Growth', # Environmental protection vs Economic growth\n",
    "    \n",
    "    # Traditional Values\n",
    "    'F034': 'Religious Person',   # Religious person\n",
    "    'D026_03': 'Child Duty',      # Duty towards society to have children\n",
    "    'E018': 'Authority Respect'   # Greater respect for authority\n",
    "}\n",
    "df_filtered = df.filter_features(list(question_mapping.keys()))\n",
    "print(df_filtered.columns)"
   ]
  },
  {
   "cell_type": "markdown",
   "metadata": {},
   "source": [
    "## Mapping features to questions"
   ]
  },
  {
   "cell_type": "code",
   "execution_count": null,
   "metadata": {},
   "outputs": [],
   "source": [
    "    "
   ]
  },
  {
   "cell_type": "markdown",
   "metadata": {},
   "source": [
    "## Process Features Into Binary variables "
   ]
  },
  {
   "cell_type": "code",
   "execution_count": null,
   "metadata": {},
   "outputs": [],
   "source": [
    "resin = ResIN(df_filtered)\n",
    "ResIN.visualize_graph(resin, question_mapping, None, False)\n",
    "print(resin.df.shape)\n",
    "print(resin.df.columns)\n",
    "\n",
    "print((resin.df['E035'] == 1).sum())\n",
    "print((resin.df['E036'] == 1).sum())\n",
    "print((resin.df['E033'] == 1).sum())"
   ]
  }
 ],
 "metadata": {
  "kernelspec": {
   "display_name": ".venv",
   "language": "python",
   "name": "python3"
  },
  "language_info": {
   "codemirror_mode": {
    "name": "ipython",
    "version": 3
   },
   "file_extension": ".py",
   "mimetype": "text/x-python",
   "name": "python",
   "nbconvert_exporter": "python",
   "pygments_lexer": "ipython3",
   "version": "3.13.0"
  }
 },
 "nbformat": 4,
 "nbformat_minor": 2
}
