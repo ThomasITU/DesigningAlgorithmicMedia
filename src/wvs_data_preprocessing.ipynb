{
 "cells": [
  {
   "cell_type": "code",
   "execution_count": null,
   "id": "0",
   "metadata": {},
   "outputs": [],
   "source": [
    "# Import \n",
    "import pandas as pd\n",
    "import re\n",
    "\n",
    "# Import custom libraries\n",
    "import util\n",
    "from util import UtilityFunctions as uf\n",
    "\n",
    "# reload the custom library, \n",
    "# Need to be executed every time new functions are added to util.py \n",
    "from importlib import reload\n",
    "reload(util)   \n",
    "\n",
    "# Monkey patch the method from the utility class to the pandas DataFrame\n",
    "pd.DataFrame.filter_features = uf.filter_features\n",
    "pd.DataFrame.filter_numerical_values = uf.filter_numerical_values\n",
    "pd.DataFrame.filter_negative_values = uf.filter_negative_values\n",
    "pd.DataFrame.filter_columns_with_less_unique_values_than_threshold = uf.filter_columns_with_less_unique_values_than_threshold\n",
    "pd.DataFrame.drop_columns = uf.drop_columns"
   ]
  },
  {
   "cell_type": "code",
   "execution_count": null,
   "id": "1",
   "metadata": {},
   "outputs": [],
   "source": [
    "countries = [(208, 'Denmark'), (578, 'Norway'), (276, 'Germany'), (840, 'USA')]\n",
    "\n"
   ]
  },
  {
   "cell_type": "code",
   "execution_count": null,
   "id": "2",
   "metadata": {},
   "outputs": [
    {
     "name": "stdout",
     "output_type": "stream",
     "text": [
      "['./../data/raw/WV3_Data_csv_v20180912.csv', './../data/raw/WV4_Data_csv_v20201117.csv', './../data/raw/WV5_Data_csv_v20180912.csv', './../data/raw/WV6_Data_csv_v20201117.csv', './../data/raw/WV7_Cross-National_Wave_7_csv_v6_0.csv']\n"
     ]
    }
   ],
   "source": [
    "raw_files = sorted(uf.get_csv_files_from_folder())  # Sort the list of files in ascending order\n",
    "print(raw_files)"
   ]
  },
  {
   "cell_type": "code",
   "execution_count": null,
   "id": "3",
   "metadata": {},
   "outputs": [],
   "source": [
    "columns_to_drop_wvs7 = [\n",
    "    'uniqid', 'ivlength', 'ivstart', 'ivstend', 'ivdate', 'reg_iso', \n",
    "    'size_5c', 'gwght', 'respint', 'X002_02A', 'doi_gesis', 'doi_wvsa', \n",
    "    'cntry_AN', 'lnge_iso', 'version', 'reg_nuts1', 'reg_nuts2',\n",
    "    'X002_02B', 'V002A', 'V002A_01', 'V001A', 'V001A_01', 'X003R',  \n",
    "    'X003R2', 'mode', 'intrvwr_id', 'cntry_AN', 'cntrycow', 'year', 'fw_start', 'fw_end', 'mode',\n",
    "    'mm_mixed_mode_EVS5', 'mm_mode_fu_EVS5', 'mm_matrix_group_EVS5', 'mm_fw_start_fu_EVS5',\n",
    "    'mm_fw_end_fu_EVS5', 'mm_year_fu_EVS5', 'ivlength', 'ivstart', 'ivstend', 'ivdate',\n",
    "    'mm_v277_fu_EVS5', 'mm_v278a_fu_r_EVS5', 'mm_v279a_fu_r_EVS5', 'lnge_num', 'lnge_iso',\n",
    "    'gwght', 'pwght', 'wght_eq1000', 'reg_nuts1', 'reg_nuts2', 'reg_iso', 'size_5c', 'respint'\n",
    "]\n",
    "\n",
    "columns_to_drop_wvs6 = []\n",
    "\n",
    "columns_to_drop_wvs5 = []\n",
    "\n",
    "columns_to_drop_wvs4 = []\n",
    "\n",
    "columns_to_drop = columns_to_drop_wvs7 + columns_to_drop_wvs6 + columns_to_drop_wvs5 + columns_to_drop_wvs4"
   ]
  },
  {
   "cell_type": "code",
   "execution_count": null,
   "id": "4",
   "metadata": {},
   "outputs": [],
   "source": [
    "\n",
    "country_features = ['C_COW_ALPHA','COW','cntry','\"cntry\"', 'V2', 'v2', '\"C_COW_NUM\"', 'C_COW_NUM']\n",
    "year_variables = ['year', 'V237', 'V262','V238', 'V246','V260']\n"
   ]
  },
  {
   "cell_type": "code",
   "execution_count": null,
   "id": "5",
   "metadata": {},
   "outputs": [
    {
     "name": "stdout",
     "output_type": "stream",
     "text": [
      "[INFO] Processing ./../data/raw/WV3_Data_csv_v20180912.csv\n",
      "  Found country code '840' in feature 'COW' for 'USA'\n",
      "[WARNING] country_dataframe is empty! ./../data/raw/WV3_Data_csv_v20180912.csv\n",
      "[WARNING] country_dataframe is empty! ./../data/raw/WV3_Data_csv_v20180912.csv\n",
      "[WARNING] country_dataframe is empty! ./../data/raw/WV3_Data_csv_v20180912.csv\n",
      "[INFO] Saved WV3_USA\n",
      "[INFO] Processing ./../data/raw/WV4_Data_csv_v20201117.csv\n",
      "  Found country code '840' in feature 'COW' for 'USA'\n",
      "[WARNING] country_dataframe is empty! ./../data/raw/WV4_Data_csv_v20201117.csv\n",
      "[WARNING] country_dataframe is empty! ./../data/raw/WV4_Data_csv_v20201117.csv\n",
      "[WARNING] country_dataframe is empty! ./../data/raw/WV4_Data_csv_v20201117.csv\n",
      "[INFO] Saved WV4_USA\n",
      "[INFO] Processing ./../data/raw/WV5_Data_csv_v20180912.csv\n",
      "  Found country code '578' in feature 'V2' for 'Norway'\n",
      "[WARNING] country_dataframe is empty! ./../data/raw/WV5_Data_csv_v20180912.csv\n",
      "[INFO] Saved WV5_Norway\n",
      "[INFO] Saved WV5_Germany\n",
      "[INFO] Saved WV5_USA\n",
      "[INFO] Processing ./../data/raw/WV6_Data_csv_v20201117.csv\n",
      "  Found country code '840' in feature 'COW' for 'USA'\n",
      "[WARNING] country_dataframe is empty! ./../data/raw/WV6_Data_csv_v20201117.csv\n",
      "[WARNING] country_dataframe is empty! ./../data/raw/WV6_Data_csv_v20201117.csv\n",
      "[WARNING] country_dataframe is empty! ./../data/raw/WV6_Data_csv_v20201117.csv\n",
      "[INFO] Saved WV6_USA\n",
      "[INFO] Processing ./../data/raw/WV7_Cross-National_Wave_7_csv_v6_0.csv\n",
      "  Found country code '840' in feature 'C_COW_NUM' for 'USA'\n",
      "[WARNING] country_dataframe is empty! ./../data/raw/WV7_Cross-National_Wave_7_csv_v6_0.csv\n",
      "[WARNING] country_dataframe is empty! ./../data/raw/WV7_Cross-National_Wave_7_csv_v6_0.csv\n",
      "[WARNING] country_dataframe is empty! ./../data/raw/WV7_Cross-National_Wave_7_csv_v6_0.csv\n",
      "[INFO] Saved WV7_USA\n"
     ]
    }
   ],
   "source": [
    "\n",
    "\n",
    "# List of possible delimiters\n",
    "delimiters = [';', ',', '\\t']\n",
    "\n",
    "# Function to detect the delimiter dynamically\n",
    "def detect_delimiter(file_path, delimiters):\n",
    "    with open(file_path, 'r') as f:\n",
    "        sample = f.readline()\n",
    "        for delimiter in delimiters:\n",
    "            if delimiter in sample:\n",
    "                return delimiter\n",
    "    # Default to ',' if no delimiter is detected\n",
    "    return ','\n",
    "\n",
    "# Assuming raw_files is a list of file paths\n",
    "for csv_file in raw_files:  # Loop over each raw file\n",
    "    print(f\"[INFO] Processing {csv_file}\")\n",
    "    \n",
    "    # Detect the delimiter\n",
    "    delimiter = detect_delimiter(csv_file, delimiters)\n",
    "    \n",
    "    try:\n",
    "        # Read the data from the file using the detected delimiter\n",
    "        dataframe = uf.read_data(csv_file, delimiters=[delimiter])\n",
    "    except Exception as e:\n",
    "        print(f\"[ERROR] Failed to read file {csv_file}: {e}\")\n",
    "        continue\n",
    "    \n",
    "    # Try to safely extract the version (e.g., WV4) from the file name using regex\n",
    "    match = re.search(r'WV(\\d+)', csv_file)\n",
    "    if match:\n",
    "        version = match.group(1)  # Extract the version number (e.g., 4 from WV4)\n",
    "    else:\n",
    "        # Handle cases where no version is found in the file name\n",
    "        print(f\"[WARNING] Skipping file {csv_file}, no version found in the file name.\")\n",
    "        continue  # Skip to the next file\n",
    "    \n",
    "    # Find the column name that corresponds to the country code\n",
    "    country_code_feature_name = uf.find_country_feature_name(\n",
    "        dataframe, countries=countries, country_features=country_features\n",
    "    )\n",
    "    \n",
    "    # If no valid country code feature is found, skip to the next file\n",
    "    if country_code_feature_name is None:\n",
    "        print(f\"[WARNING] No country_code_feature_name found! {csv_file}\")\n",
    "        continue\n",
    "    \n",
    "    # Process the dataframe for each country\n",
    "    for country_code, name in countries:\n",
    "        # Filter the dataframe for the rows where the country code matches\n",
    "        country_dataframe = dataframe[dataframe[country_code_feature_name] == country_code]\n",
    "        \n",
    "        # Skip if no data for the given country\n",
    "        if country_dataframe.empty:\n",
    "            print(f\"[WARNING] country_dataframe is empty! {csv_file}\")\n",
    "            continue\n",
    "        \n",
    "        # Apply cleaning steps\n",
    "        try:\n",
    "            country_dataframe = country_dataframe.filter_numerical_values()  # Remove non-numerical values\n",
    "            country_dataframe = country_dataframe.filter_negative_values()  # Remove negative values\n",
    "            country_dataframe = country_dataframe.filter_columns_with_less_unique_values_than_threshold(2)  # Drop columns with too few unique values\n",
    "            country_dataframe = uf.drop_columns(country_dataframe, columns_to_drop)  # Drop specified columns\n",
    "        except Exception as e:\n",
    "            print(f\"[ERROR] Cleaning failed for {csv_file}: {e}\")\n",
    "            continue\n",
    "        \n",
    "        # Save the cleaned dataframe to the processed folder\n",
    "        file_name = f\"WV{version}_{name}\"  # Construct the file name\n",
    "        try:\n",
    "            uf.save_dataframe(country_dataframe, file_name)\n",
    "            print(f\"** Saved {file_name} **\")\n",
    "        except Exception as e:\n",
    "            print(f\"[ERROR] Failed to save file {file_name}: {e}\")\n"
   ]
  }
 ],
 "metadata": {
  "kernelspec": {
   "display_name": "Python 3",
   "language": "python",
   "name": "python3"
  },
  "language_info": {
   "codemirror_mode": {
    "name": "ipython",
    "version": 2
   },
   "file_extension": ".py",
   "mimetype": "text/x-python",
   "name": "python",
   "nbconvert_exporter": "python",
   "pygments_lexer": "ipython2",
   "version": "2.7.6"
  }
 },
 "nbformat": 4,
 "nbformat_minor": 5
}
