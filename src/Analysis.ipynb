{
 "cells": [
  {
   "cell_type": "markdown",
   "metadata": {},
   "source": [
    "### Import"
   ]
  },
  {
   "cell_type": "code",
   "execution_count": null,
   "metadata": {},
   "outputs": [],
   "source": [
    "# Import\n",
    "import pandas as pd\n",
    "\n",
    "# Import custom libraries\n",
    "from util import UtilityFunctions as uf\n",
    "from analysis import Analysis as an\n"
   ]
  },
  {
   "cell_type": "markdown",
   "metadata": {},
   "source": [
    "### Load processed data"
   ]
  },
  {
   "cell_type": "code",
   "execution_count": null,
   "metadata": {},
   "outputs": [],
   "source": [
    "path = './../data/processed/'\n",
    "\n",
    "processed_files = uf.get_csv_files_from_folder(path)\n",
    "for f in processed_files:\n",
    "        print(f)"
   ]
  },
  {
   "cell_type": "markdown",
   "metadata": {},
   "source": [
    "### Set hyperparameters for PCA"
   ]
  },
  {
   "cell_type": "code",
   "execution_count": null,
   "metadata": {},
   "outputs": [],
   "source": [
    "NUMBER_OF_FEATURES = 200\n",
    "N_COMPONENTS = 3\n",
    "feature_of_interest = 'E033' # Political self assessment scale"
   ]
  },
  {
   "cell_type": "markdown",
   "metadata": {},
   "source": [
    "### Run PCA on processed data and plot"
   ]
  },
  {
   "cell_type": "code",
   "execution_count": null,
   "metadata": {},
   "outputs": [],
   "source": [
    "for csv_file in processed_files:\n",
    "        country_dataframe = pd.read_csv(csv_file)\n",
    "        # Find the NUMBER_OF_FEATURES most correlated with the political scale feature\n",
    "        corr = country_dataframe.drop(feature_of_interest, axis=1).corrwith(country_dataframe[feature_of_interest]).abs().sort_values(ascending=False)\n",
    "        n_features = corr.head(NUMBER_OF_FEATURES).index\n",
    "        filter_df = country_dataframe.filter_features(n_features)\n",
    "\n",
    "        # Perform PCA\n",
    "        (explained_variance, pca) = an.PCA(filter_df, N_COMPONENTS)\n",
    "\n",
    "        # visualize PCA\n",
    "        plotting_data = (country_dataframe[feature_of_interest], 'Political self assessment scale', feature_of_interest)\n",
    "        dataset_name = csv_file.split('/')[-1].split('.')[0]\n",
    "        print(f\"Explained variance for {dataset_name} with {n_features.shape[0]} features\")\n",
    "        print([f\"{r * 100:.2f}\" for r in explained_variance[0:N_COMPONENTS]])\n",
    "        an.plot_PCA(pca, plotting_data, dataset_name)"
   ]
  },
  {
   "cell_type": "markdown",
   "metadata": {},
   "source": []
  }
 ],
 "metadata": {
  "kernelspec": {
   "display_name": ".venv",
   "language": "python",
   "name": "python3"
  },
  "language_info": {
   "codemirror_mode": {
    "name": "ipython",
    "version": 3
   },
   "file_extension": ".py",
   "mimetype": "text/x-python",
   "name": "python",
   "nbconvert_exporter": "python",
   "pygments_lexer": "ipython3",
   "version": "3.13.0"
  }
 },
 "nbformat": 4,
 "nbformat_minor": 2
}
